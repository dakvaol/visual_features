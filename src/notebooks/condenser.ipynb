{
 "cells": [
  {
   "cell_type": "code",
   "execution_count": 1,
   "metadata": {},
   "outputs": [],
   "source": [
    "import os\n",
    "from pathlib import Path\n",
    "#import tempfile\n",
    "#import cv2\n",
    "import numpy as np\n",
    "#from colorthief import ColorThief\n",
    "from sklearn.metrics.pairwise import cosine_similarity\n",
    "from sklearn.preprocessing import StandardScaler\n",
    "from sklearn.decomposition import PCA\n",
    "from sklearn.decomposition import MiniBatchSparsePCA\n",
    "from sklearn.cluster import KMeans\n",
    "#from skimage.filters.rank import entropy\n",
    "#from skimage.morphology import disk*\n",
    "#from PIL import Image, ImageStat\n",
    "#from skimage import img_as_float\n",
    "import pandas as pd\n",
    "#from multiprocessing import Process\n",
    "#import matplotlib.image as img\n",
    "import matplotlib.pyplot as plt\n",
    "import statistics\n",
    "from scipy import spatial\n",
    "#from numba import jit"
   ]
  },
  {
   "cell_type": "markdown",
   "metadata": {},
   "source": [
    "# Importing feature data"
   ]
  },
  {
   "cell_type": "code",
   "execution_count": null,
   "metadata": {},
   "outputs": [],
   "source": [
    "movie_df = pd.DataFrame()\n",
    "\n",
    "feature_data_path = Path(\"../datasets/movie_features/\")"
   ]
  },
  {
   "cell_type": "markdown",
   "metadata": {},
   "source": [
    "# Helper functions"
   ]
  },
  {
   "cell_type": "code",
   "execution_count": null,
   "metadata": {},
   "outputs": [],
   "source": [
    "# Averages a list\n",
    "def average(l):\n",
    "    return sum(l) / len(l)\n",
    "\n",
    "# Makes a list of unique values from a list\n",
    "def unique(list1):\n",
    "    # Init null list\n",
    "    unique_list = []\n",
    "\n",
    "    for x in list1:\n",
    "        if x not in unique_list:\n",
    "            unique_list.append(x)\n",
    "            #print(x)\n",
    "    return unique_list"
   ]
  },
  {
   "cell_type": "markdown",
   "metadata": {},
   "source": [
    "# Condensing all features into a single row per movie"
   ]
  },
  {
   "cell_type": "code",
   "execution_count": null,
   "metadata": {},
   "outputs": [],
   "source": [
    "# Polynomial regression on the movies\n",
    "# Currently all values are formatted as strings (might be changed later)\n",
    "def polynomial_regression_alt(df, id):\n",
    "    temp_df = df\n",
    "    temp_df['frame_nr'] = pd.to_numeric(temp_df['frame_nr'], downcast='integer')\n",
    "    temp_df = temp_df.sort_values(by=['frame_nr'], axis=0, ascending=True)\n",
    "    output = pd.DataFrame()\n",
    "\n",
    "    frame_nr = temp_df['frame_nr'][temp_df['movie_id'] == id]\n",
    "    saturation = temp_df['saturation'][temp_df['movie_id'] == id]\n",
    "    brightness = temp_df['brightness'][temp_df['movie_id'] == id]\n",
    "    entropy = temp_df['entropy'][temp_df['movie_id'] == id]\n",
    "    #sharpness = temp_df['sharpness'][temp_df['movie_id'] == id]\n",
    "    contrast = temp_df['contrast'][temp_df['movie_id'] == id]\n",
    "    colorfulness = temp_df['colorfulness'][temp_df['movie_id'] == id]\n",
    "\n",
    "    saturation_model_1st = np.poly1d(np.polyfit(frame_nr, saturation, 1))\n",
    "    brightness_model_1st = np.poly1d(np.polyfit(frame_nr, brightness, 1))\n",
    "    entropy_model_1st = np.poly1d(np.polyfit(frame_nr, entropy, 1))\n",
    "    #sharpness_model_1st = str(np.poly1d(np.polyfit(frame_nr, sharpness, 1)))\n",
    "    contrast_model_1st = np.poly1d(np.polyfit(frame_nr, contrast, 1))\n",
    "    colorfulness_model_1st = np.poly1d(np.polyfit(frame_nr, colorfulness, 1))\n",
    "\n",
    "    saturation_model_2nd = np.poly1d(np.polyfit(frame_nr, saturation, 2))\n",
    "    brightness_model_2nd = np.poly1d(np.polyfit(frame_nr, brightness, 2))\n",
    "    entropy_model_2nd = np.poly1d(np.polyfit(frame_nr, entropy, 2))\n",
    "    #sharpness_model_2nd = str(np.poly1d(np.polyfit(frame_nr, sharpness, 2)))\n",
    "    contrast_model_2nd = np.poly1d(np.polyfit(frame_nr, contrast, 2))\n",
    "    colorfulness_model_2nd = np.poly1d(np.polyfit(frame_nr, colorfulness, 2))\n",
    "\n",
    "    polynomial_dict = {\n",
    "        'movie_id': str(id),\n",
    "        'saturation_model_1st': saturation_model_1st, \n",
    "        'brightness_model_1st': brightness_model_1st,\n",
    "        'entropy_model_1st': entropy_model_1st,\n",
    "        #'sharpness_model_1st': sharpness_model_1st,\n",
    "        'contrast_model_1st': contrast_model_1st,\n",
    "        'colorfulness_model_1st': colorfulness_model_1st,\n",
    "        'saturation_model_2nd': saturation_model_2nd,\n",
    "        'brightness_model_2nd': brightness_model_2nd,\n",
    "        'entropy_model_2nd': entropy_model_2nd,\n",
    "        #'sharpness_model_2nd': sharpness_model_2nd,\n",
    "        'contrast_model_2nd': contrast_model_2nd,\n",
    "        'colorfulness_model_2nd': colorfulness_model_2nd,\n",
    "    }\n",
    "\n",
    "    output = output.append(polynomial_dict, ignore_index=True)\n",
    "    return output"
   ]
  },
  {
   "cell_type": "code",
   "execution_count": null,
   "metadata": {},
   "outputs": [],
   "source": [
    "# New dataframe condensing each movie into a single row \n",
    "def movie_matrix(df, id):\n",
    "    matrix = pd.DataFrame()\n",
    "\n",
    "    avg_brightness = average(df['brightness'][df['movie_id'] == id])\n",
    "    avg_saturation = average(df['saturation'][df['movie_id'] == id])\n",
    "    avg_entropy = average(df['entropy'][df['movie_id'] == id])\n",
    "    #avg_sharpness = average(df['sharpness'][df['movie_id'] == id])\n",
    "    avg_contrast = average(df['contrast'][df['movie_id'] == id])\n",
    "    avg_colorfulness = average(df['colorfulness'][df['movie_id'] == id])\n",
    "\n",
    "    stdev_brightness = statistics.stdev((df['brightness'][df['movie_id'] == id]))\n",
    "    stdev_saturation = statistics.stdev((df['saturation'][df['movie_id'] == id]))\n",
    "    stdev_entropy = statistics.stdev((df['entropy'][df['movie_id'] == id]))\n",
    "    #stdev_sharpness = statistics.stdev((df['sharpness'][df['movie_id'] == id]))\n",
    "    stdev_contrast = statistics.stdev((df['contrast'][df['movie_id'] == id]))\n",
    "    stdev_colorfulness = statistics.stdev((df['colorfulness'][df['movie_id'] == id]))\n",
    "\n",
    "    mean_brightness = statistics.median((df['brightness'][df['movie_id'] == id]))\n",
    "    mean_saturation = statistics.median((df['saturation'][df['movie_id'] == id]))\n",
    "    mean_entropy = statistics.median((df['entropy'][df['movie_id'] == id]))\n",
    "    #mean_sharpness = statistics.median((df['sharpness'][df['movie_id'] == id]))\n",
    "    mean_contrast = statistics.median((df['contrast'][df['movie_id'] == id]))\n",
    "    mean_colorfulness = statistics.median((df['colorfulness'][df['movie_id'] == id]))\n",
    "\n",
    "\n",
    "    matrix_dict = {\n",
    "        'movie_id': str(id),\n",
    "        'avg_brightness': avg_brightness,\n",
    "        'avg_saturation': avg_saturation,\n",
    "        'avg_entropy': avg_entropy,\n",
    "        #'avg_sharpness': avg_sharpness,\n",
    "        'avg_contrast': avg_contrast,\n",
    "        'avg_colorfulness': avg_colorfulness,\n",
    "        'stdev_brightness': stdev_brightness,\n",
    "        'stdev_saturation': stdev_saturation,\n",
    "        'stdev_entropy': stdev_entropy,\n",
    "        #'stdev_sharpness': stdev_sharpness,\n",
    "        'stdev_contrast': stdev_contrast,\n",
    "        'stdev_colorfulness': stdev_colorfulness,\n",
    "        'mean_brightness': mean_brightness,\n",
    "        'mean_saturation': mean_saturation,\n",
    "        'mean_entropy': mean_entropy,\n",
    "        #'mean_sharpness': mean_sharpness,\n",
    "        'mean_contrast': mean_contrast,\n",
    "        'mean_colorfulness': mean_colorfulness,\n",
    "    }\n",
    "\n",
    "    matrix = matrix.append(matrix_dict, ignore_index = True)\n",
    "    return matrix"
   ]
  }
 ],
 "metadata": {
  "interpreter": {
   "hash": "a05f93782d31fb45d30263a0389582a01d7e14abf3ec6aacde92652303ee35ce"
  },
  "kernelspec": {
   "display_name": "Python 3.8.12 ('base')",
   "language": "python",
   "name": "python3"
  },
  "language_info": {
   "codemirror_mode": {
    "name": "ipython",
    "version": 3
   },
   "file_extension": ".py",
   "mimetype": "text/x-python",
   "name": "python",
   "nbconvert_exporter": "python",
   "pygments_lexer": "ipython3",
   "version": "3.8.12"
  },
  "orig_nbformat": 4
 },
 "nbformat": 4,
 "nbformat_minor": 2
}
